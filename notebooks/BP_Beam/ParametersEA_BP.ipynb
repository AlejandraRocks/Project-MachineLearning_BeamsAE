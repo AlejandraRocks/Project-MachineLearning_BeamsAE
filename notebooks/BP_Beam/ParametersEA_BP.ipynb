{
 "cells": [
  {
   "cell_type": "code",
   "execution_count": 1,
   "id": "e1696607-fe6a-41f3-bc4d-0e23e0214339",
   "metadata": {},
   "outputs": [],
   "source": [
    "import numpy as np\n",
    "import matplotlib as plt\n",
    "import os \n",
    "import matplotlib.pyplot as plt\n",
    "import pandas as pd\n"
   ]
  },
  {
   "cell_type": "markdown",
   "id": "cf24b01c",
   "metadata": {},
   "source": [
    "## IMPORT ACOUSTIC EMISSION EXCEL DATA "
   ]
  },
  {
   "cell_type": "code",
   "execution_count": 3,
   "id": "2026116b",
   "metadata": {},
   "outputs": [],
   "source": [
    "BP=pd.read_excel('BP - V33_EA.xlsx')    #Beam BP Xargay et al article"
   ]
  },
  {
   "cell_type": "code",
   "execution_count": 3,
   "id": "0b4b5084",
   "metadata": {},
   "outputs": [],
   "source": [
    "# Filtrar por canales para BP\n",
    "group_BP=BP.groupby(BP.CH)\n",
    "BP_ch1=group_BP.get_group(1)\n",
    "BP_ch2=group_BP.get_group(2)\n",
    "BP_ch3=group_BP.get_group(3)\n",
    "BP_ch4=group_BP.get_group(4)"
   ]
  },
  {
   "cell_type": "markdown",
   "id": "1370e7b7",
   "metadata": {},
   "source": [
    "# Exportar dataframes por canal"
   ]
  },
  {
   "cell_type": "code",
   "execution_count": null,
   "id": "da1b5592",
   "metadata": {},
   "outputs": [],
   "source": [
    "\n",
    "# Obtener el directorio padre (subcarpeta) donde está alojado el archivo\n",
    "directorio_subcarpeta = os.getcwd()\n",
    "\n",
    "# Exportar el DataFrame a un archivo Excel en la subcarpeta\n",
    "ruta_excel = os.path.join(directorio_subcarpeta, 'BP - V33_EA_ch1.xlsx')\n",
    "BP_ch1.to_excel(ruta_excel, index=False)\n",
    "print(f\"Se ha exportado el DataFrame a {ruta_excel}\")"
   ]
  },
  {
   "cell_type": "code",
   "execution_count": 6,
   "id": "50151203",
   "metadata": {},
   "outputs": [],
   "source": [
    "%matplotlib inline\n",
    "%matplotlib qt"
   ]
  },
  {
   "cell_type": "markdown",
   "id": "c13f60e7",
   "metadata": {},
   "source": [
    "### GRAFICAR AMPLITUD VS TIEMPO BP"
   ]
  },
  {
   "cell_type": "code",
   "execution_count": 7,
   "id": "8ae7185c",
   "metadata": {},
   "outputs": [],
   "source": [
    "#SP canal 1\n",
    "\n",
    "plt.figure(figsize=(10, 5))\n",
    "plt.rc('font', family='serif')\n",
    "plt.rc('xtick', labelsize=15)\n",
    "plt.rc('ytick', labelsize=15)\n",
    "\n",
    "# Plot para el primer DataFrame\n",
    "ax1 = plt.subplot(1, 1, 1)\n",
    "color = 'blue'\n",
    "ax1.set_xlabel('Tiempo [s]', fontsize=15)\n",
    "ax1.set_ylabel('Amplitud máxima [dB]', color=color, fontsize=15)\n",
    "ax1.plot(BP_ch1['TIME'],BP_ch1['AMP'], 'o',markersize=3, color = color,label='Sensor1')\n",
    "ax1.tick_params(axis='y', labelcolor=color)\n",
    "\n",
    "ax2 = ax1.twinx()\n",
    "color = 'red'\n",
    "ax2.set_ylabel('Fuerza', color=color, fontsize=15)\n",
    "\n",
    "ax2.plot(BP_ch1['TIME'],(BP_ch1['LOAD_PAC']),color=color)\n",
    "ax2.tick_params(axis ='y', labelcolor = color)\n",
    "\n",
    "plt.show()"
   ]
  },
  {
   "cell_type": "markdown",
   "id": "3dc38cef",
   "metadata": {},
   "source": [
    "### CANAL 1 SEPARAR POR INTERVALOS DE TIEMPO"
   ]
  },
  {
   "cell_type": "code",
   "execution_count": null,
   "id": "b8f912ef",
   "metadata": {},
   "outputs": [],
   "source": [
    "    TIEMPOS_LL1A_ASCIENDE=[184,228]\n",
    "    TIEMPOS_LL1A_CONSTANTE=[228,304]\n",
    "    TIEMPOS_LL1A_DESCIENDE=[304,372]\n",
    "\n",
    "    TIEMPOS_LL1B_ASCIENDE=[415,513]\n",
    "    TIEMPOS_LL1B_CONSTANTE=[513,596]\n",
    "    TIEMPOS_LL1B_DESCIENDE=[596,670]\n",
    "\n",
    "    TIEMPOS_LL2A_ASCIENDE=[813,888]\n",
    "    TIEMPOS_LL2A_CONSTANTE=[888,948]\n",
    "    TIEMPOS_LL2A_DESCIENDE=[948,1090]\n",
    "\n",
    "    TIEMPOS_LL2B_ASCIENDE=[1140,1246]\n",
    "    TIEMPOS_LL2B_CONSTANTE=[1246,1605]\n",
    "    TIEMPOS_LL2B_DESCIENDE=[1605,1682]\n",
    "\n",
    "\n",
    "    TIEMPOS_LL3A_ASCIENDE=[1769,1947]\n",
    "    TIEMPOS_LL3A_CONSTANTE=[1947,2007]\n",
    "    TIEMPOS_LL3A_DESCIENDE=[2007,2146]\n",
    "\n",
    "    TIEMPOS_LL3B_ASCIENDE=[2178,2329]\n",
    "    TIEMPOS_LL3B_CONSTANTE=[2329,2620]\n",
    "    TIEMPOS_LL3B_DESCIENDE=[2620,2766]\n",
    "\n",
    "\n",
    "    TIEMPOS_LL4A_ASCIENDE=[2813,2980]\n",
    "    TIEMPOS_LL4A_CONSTANTE=[2980,3043]\n",
    "    TIEMPOS_LL4A_DESCIENDE=[3043,3218]\n",
    "\n",
    "    TIEMPOS_LL4B_ASCIENDE=[3260,3476]\n",
    "    TIEMPOS_LL4B_CONSTANTE=[3476,3752]\n",
    "    TIEMPOS_LL4B_DESCIENDE=[3752,3919]\n",
    "\n",
    "    TIEMPOS_LL5A_ASCIENDE=[3963,4228]\n",
    "    TIEMPOS_LL5A_CONSTANTE=[4228,4290]\n",
    "    TIEMPOS_LL5A_DESCIENDE=[4290,4525]\n",
    "\n",
    "    TIEMPOS_LL5B_ASCIENDE=[4560,4790]\n",
    "    TIEMPOS_LL5B_CONSTANTE=[4790,5037]\n",
    "    TIEMPOS_LL5B_DESCIENDE=[5037,5261]\n",
    "\n",
    "\n",
    "    TIEMPOS_LL6A_ASCIENDE=[5361,5682]\n"
   ]
  },
  {
   "cell_type": "code",
   "execution_count": 6,
   "id": "52e9cefa",
   "metadata": {},
   "outputs": [
    {
     "name": "stderr",
     "output_type": "stream",
     "text": [
      "/var/folders/vm/c1dg8j111tgfc3xsncbzn6n40000gn/T/ipykernel_3647/4176953708.py:46: SettingWithCopyWarning: \n",
      "A value is trying to be set on a copy of a slice from a DataFrame.\n",
      "Try using .loc[row_indexer,col_indexer] = value instead\n",
      "\n",
      "See the caveats in the documentation: https://pandas.pydata.org/pandas-docs/stable/user_guide/indexing.html#returning-a-view-versus-a-copy\n",
      "  BP_ch1['load level'] = BP_ch1['TIME'].apply(asignar_load_level)\n"
     ]
    },
    {
     "name": "stdout",
     "output_type": "stream",
     "text": [
      "          TIME   LOAD_PAC  CH  RISE  COUN  ENER  DURATION  AMP  A-FRQ     RMS  \\\n",
      "7   182.146238  -25.82450   1   220    26     4       467   46     56  0.0002   \n",
      "9   182.147574  -19.53350   1   932   194    42      2970   57     65  0.0052   \n",
      "11  182.151222  -39.97925   1   130   293   123      2834   68    103  0.0052   \n",
      "21  192.398993  246.26125   1     9    21     2       270   47     78  0.0002   \n",
      "28  195.300359  324.89875   1   191     9     2       357   45     25  0.0002   \n",
      "\n",
      "    ASL  PCNTS  THR  R-FRQ  I-FRQ  SIG STRNGTH  ABS-ENERGY      load level  \n",
      "7    10     17   40     36     77        25751      4113.0  SIN_CLASIFICAR  \n",
      "9    37     55   40     68     59       265621     83236.0  SIN_CLASIFICAR  \n",
      "11   37     16   40    102    123       774221    399191.0  SIN_CLASIFICAR  \n",
      "21   10      2   40     72    222        17989      3404.0    LL1_ASCIENDE  \n",
      "28   10      6   40     18     31        15177      2040.0    LL1_ASCIENDE  \n",
      "El archivo con los niveles de carga se ha guardado en: /Users/alejandravesga2024/Library/CloudStorage/OneDrive-UTNFacultadRegionalDELTA/DOCTORADO_ALEJANDRA/ENSAYOS/Analisis_Parametros_EA_Phyton/EnsayoXargay_vigas/CODE/BP_ch1_con_load_level.xlsx\n"
     ]
    }
   ],
   "source": [
    "\n",
    "# Make a ditectory with the time ranges \n",
    "times_load = {\n",
    "    \"LL1_RISE\": [184, 228],\n",
    "    \"LL1_CONSTANT\": [228, 304],\n",
    "    \"LL1_LOW\": [304, 372],\n",
    "    \"LL1B_RISE\": [415, 513],\n",
    "    \"LL1B_CONSTANT\": [513, 596],\n",
    "    \"LL1B_LOW\": [596, 670],\n",
    "    \"LL2A_RISE\": [813, 888],\n",
    "    \"LL2A_CONSTANT\": [888, 948],\n",
    "    \"LL2A_LOW\": [948, 1090],\n",
    "    \"LL2B_RISE\": [1140, 1246],\n",
    "    \"LL2B_CONSTANT\": [1246, 1605],\n",
    "    \"LL2B_LOW\": [1605, 1682],\n",
    "    \"LL3A_RISE\": [1769, 1947],\n",
    "    \"LL3A_CONSTANT\": [1947, 2007],\n",
    "    \"LL3A_LOW\": [2007, 2146],\n",
    "    \"LL3B_RISE\": [2178, 2329],\n",
    "    \"LL3B_CONSTANT\": [2329, 2620],\n",
    "    \"LL3B_LOW\": [2620, 2766],\n",
    "    \"LL4A_RISE\": [2813, 2980],\n",
    "    \"LL4A_CONSTANT\": [2980, 3043],\n",
    "    \"LL4A_LOW\": [3043, 3218],\n",
    "    \"LL4B_RISE\": [3260, 3476],\n",
    "    \"LL4B_CONSTANT\": [3476, 3752],\n",
    "    \"LL4B_LOW\": [3752, 3919],\n",
    "    \"LL5A_RISE\": [3963, 4228],\n",
    "    \"LL5A_CONSTANT\": [4228, 4290],\n",
    "    \"LL5A_LOW\": [4290, 4525],\n",
    "    \"LL5B_RISE\": [4560, 4790],\n",
    "    \"LL5B_CONTANT\": [4790, 5037],\n",
    "    \"LL5B_LOW\": [5037, 5261],\n",
    "    \"LL6A_RISE\": [5361, 5682],\n",
    "}\n",
    "\n",
    "# Funtion to put load level in the dataframe\n",
    "def put_load_level(time):\n",
    "    for level, range in times_load.items():\n",
    "        if range[0] <= time < range[1]:\n",
    "            return level\n",
    "    return \"WITHOUT_CLASIFY\"  # Para tiempos fuera de los rangos dados\n",
    "\n",
    "# Put the column 'load level' in DataFrame\n",
    "BP_ch1['load level'] = BP_ch1['TIME'].apply(put_load_level)\n",
    "\n",
    "# Verify the results\n",
    "print(BP_ch1.head())\n",
    "\n",
    "# Export to Excel\n",
    "rut_excel = os.path.join(os.getcwd(), 'BP_ch1_con_load_level.xlsx')\n",
    "BP_ch1.to_excel(rut_excel, index=False)\n",
    "print(f\"El archivo con los niveles de carga se ha guardado en: {rut_excel}\")\n"
   ]
  },
  {
   "cell_type": "markdown",
   "id": "0b0ee4b2",
   "metadata": {},
   "source": [
    "### GRAFICAR AMPLITUD VS TIEMPO BF"
   ]
  },
  {
   "cell_type": "markdown",
   "id": "db1ae622",
   "metadata": {},
   "source": [
    "### GRAFICAR AMPLITUD VS TIEMPO SP"
   ]
  },
  {
   "cell_type": "markdown",
   "id": "a7758e4f",
   "metadata": {},
   "source": [
    "### GRAFICAR AMPLITUD VS TIEMPO SF"
   ]
  },
  {
   "cell_type": "markdown",
   "id": "76e6e0da",
   "metadata": {},
   "source": []
  }
 ],
 "metadata": {
  "kernelspec": {
   "display_name": "Python 3",
   "language": "python",
   "name": "python3"
  },
  "language_info": {
   "codemirror_mode": {
    "name": "ipython",
    "version": 3
   },
   "file_extension": ".py",
   "mimetype": "text/x-python",
   "name": "python",
   "nbconvert_exporter": "python",
   "pygments_lexer": "ipython3",
   "version": "3.9.6"
  }
 },
 "nbformat": 4,
 "nbformat_minor": 5
}
